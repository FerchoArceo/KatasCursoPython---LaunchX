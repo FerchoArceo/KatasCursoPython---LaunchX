{
 "cells": [
  {
   "cell_type": "markdown",
   "metadata": {},
   "source": [
    "# Kata No. 5"
   ]
  },
  {
   "cell_type": "markdown",
   "metadata": {},
   "source": [
    "Curso LaunchX, 2022.\n",
    "Alumno: Fernando Arceo Olivares"
   ]
  },
  {
   "cell_type": "markdown",
   "metadata": {},
   "source": [
    "Se te encomendó la tarea de crear una aplicación que solicita al usuario las distancias del sol para dos planetas, así como calcular la diferencia entre las dos distancias."
   ]
  },
  {
   "cell_type": "markdown",
   "metadata": {},
   "source": [
    "## Ejercicio 1: Utilizar operadores aritméticos\n",
    "\n",
    "Comenzaremos usando dos distancias de planetas: Tierra (149.597.870 km) y Júpiter (778.547.200 km)."
   ]
  },
  {
   "cell_type": "code",
   "execution_count": 16,
   "metadata": {},
   "outputs": [],
   "source": [
    "# Distance from the sun\n",
    "earth = 149597870 #km\n",
    "jupiter = 778547200 #km"
   ]
  },
  {
   "cell_type": "markdown",
   "metadata": {},
   "source": [
    "Restarás el primer planeta del segundo para determinar la distancia en kilómetros y millas."
   ]
  },
  {
   "cell_type": "code",
   "execution_count": 17,
   "metadata": {},
   "outputs": [
    {
     "name": "stdout",
     "output_type": "stream",
     "text": [
      "Distance between the Earth and Jupiter:\n",
      "628949330 km or 390577533.93 miles.\n"
     ]
    }
   ],
   "source": [
    "distance = jupiter - earth\n",
    "dist_in_miles = distance * 0.621\n",
    "\n",
    "print('Distance between the Earth and Jupiter:')\n",
    "print(str(distance)+' km or '+str(dist_in_miles)+' miles.')"
   ]
  },
  {
   "cell_type": "markdown",
   "metadata": {},
   "source": [
    "## Ejercicio 2: convierte cadenas en números y usa valores absolutos\n",
    "\n",
    "Crear una aplicación para trabajar con números y entrada de usuario. Leer la distancia al sol de 2 planetas y luego mostrar la diferencia 'input' > 'str' to 'int' > 'abs'."
   ]
  },
  {
   "cell_type": "code",
   "execution_count": 18,
   "metadata": {},
   "outputs": [],
   "source": [
    "planet1 = input(\"How far away from the sun is the first planet (in Km)?\")\n",
    "planet2 = input(\"Now, how far away from the sun is the second planet (in Km)?\")\n",
    "# input returns strings"
   ]
  },
  {
   "cell_type": "code",
   "execution_count": 19,
   "metadata": {},
   "outputs": [],
   "source": [
    "planet1_num = int(planet1)\n",
    "planet2_num = int(planet2)"
   ]
  },
  {
   "cell_type": "code",
   "execution_count": 20,
   "metadata": {},
   "outputs": [
    {
     "name": "stdout",
     "output_type": "stream",
     "text": [
      "The distance from the sun of the first planet is: 420\n",
      "The distance from the sun of the second planet is: 69420\n",
      "Distance between the two planets:\n",
      "69000 km or 42849.0 miles.\n"
     ]
    }
   ],
   "source": [
    "abs_km = abs(planet1_num - planet2_num)\n",
    "abs_miles = abs_km * 0.621\n",
    "\n",
    "print(f'The distance from the sun of the first planet is: {planet1_num}')\n",
    "print(f'The distance from the sun of the second planet is: {planet2_num}')\n",
    "print('Distance between the two planets:')\n",
    "print(str(abs_km)+' km or '+str(abs_miles)+' miles.')"
   ]
  },
  {
   "cell_type": "markdown",
   "metadata": {},
   "source": [
    "Distancias de los planetas:\n",
    "\n",
    "Mercurio\t57900000\n",
    "Venus\t    108200000\n",
    "Tierra\t    149600000\n",
    "Marte\t    227900000\n",
    "Júpiter\t    778600000\n",
    "Saturno\t    1433500000\n",
    "Urano\t    2872500000\n",
    "Neptuno\t    4495100000"
   ]
  },
  {
   "cell_type": "markdown",
   "metadata": {},
   "source": [
    "Curso Propedútico de Python para Launch X - Innovacción Virtual.\n",
    "\n",
    "Material desarrollado con base en los contenidos de MSLearn y la metáfora de LaunchX, traducción e implementación por: Fernanda Ochoa - Learning Producer de LaunchX.\n",
    "\n",
    "https://github.com/LaunchX-InnovaccionVirtual/CursoIntroPython/"
   ]
  }
 ],
 "metadata": {
  "interpreter": {
   "hash": "2be5faf79681da6f2a61fdfdd5405d65d042280f7fba6178067603e3a2925119"
  },
  "kernelspec": {
   "display_name": "Python 3.10.2 64-bit",
   "language": "python",
   "name": "python3"
  },
  "language_info": {
   "codemirror_mode": {
    "name": "ipython",
    "version": 3
   },
   "file_extension": ".py",
   "mimetype": "text/x-python",
   "name": "python",
   "nbconvert_exporter": "python",
   "pygments_lexer": "ipython3",
   "version": "3.10.2"
  },
  "orig_nbformat": 4
 },
 "nbformat": 4,
 "nbformat_minor": 2
}
