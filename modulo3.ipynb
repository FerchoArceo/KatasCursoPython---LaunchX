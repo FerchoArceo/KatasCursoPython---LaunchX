{
 "cells": [
  {
   "cell_type": "markdown",
   "metadata": {},
   "source": [
    "# Kata No. 3"
   ]
  },
  {
   "cell_type": "markdown",
   "metadata": {},
   "source": [
    "Curso LaunchX, 2022.\n",
    "Alumno: Fernando Arceo Olivares"
   ]
  },
  {
   "cell_type": "markdown",
   "metadata": {},
   "source": [
    "### Ejercicio de condicionales\n",
    "\n",
    "Para este ejercicio, escribirás una lógica condicional que imprima una advertencia si un asteroide se acerca a la Tierra demasiado rápido. La velocidad del asteroide varía dependiendo de lo cerca que esté del sol, y cualquier velocidad superior a 25 kilómetros por segundo (km/s) merece una advertencia.\n",
    "\n",
    "Un asteroide se acerca, y viaja a una velocidad de 49 km/s."
   ]
  },
  {
   "cell_type": "code",
   "execution_count": 1,
   "metadata": {},
   "outputs": [
    {
     "name": "stdout",
     "output_type": "stream",
     "text": [
      "Advertencia! Serás el petroleo de la siguiente generación de vida en la tierra.\n"
     ]
    }
   ],
   "source": [
    "velAsteroide = 49\n",
    "\n",
    "if velAsteroide > 25:\n",
    "    print(\"Advertencia! Serás el petroleo de la siguiente generación de vida en la tierra.\")\n",
    "else:\n",
    "    print(\"Asteroide cercano a la tierra. Sin riesgo para la humanidad\")"
   ]
  },
  {
   "cell_type": "markdown",
   "metadata": {},
   "source": [
    "Si un asteroide entra en la atmósfera de la Tierra a una velocidad mayor o igual a 20 km/s, a veces produce un rayo de luz que se puede ver desde la Tierra. Escribe la lógica condicional que usa declaraciones if, else, y elif para alertar a las personas de todo el mundo que deben buscar un asteroide en el cielo. ¡Hay uno que se dirige a la tierra ahora a una velocidad de 19 km/s!"
   ]
  },
  {
   "cell_type": "code",
   "execution_count": 8,
   "metadata": {},
   "outputs": [
    {
     "name": "stdout",
     "output_type": "stream",
     "text": [
      "Asteroide cercano a la tierra. Sin riesgo para la humanidad\n"
     ]
    }
   ],
   "source": [
    "velAsteroide = 19\n",
    "\n",
    "if velAsteroide > 25:\n",
    "    print(\"Advertencia! Serás el petroleo de la siguiente generación de vida en la tierra.\")\n",
    "elif velAsteroide >= 20:\n",
    "    print(\"Asteroide cercano a la tierra. Será visible una estela de luz, ¡Buscala!\")\n",
    "else:\n",
    "    print(\"Asteroide cercano a la tierra. Sin riesgo para la humanidad\")"
   ]
  },
  {
   "cell_type": "markdown",
   "metadata": {},
   "source": [
    "### Ejercicio de operadores 'and' y 'or'\n",
    "\n",
    "Nueva información:\n",
    "\n",
    "* Asteroides de menos de 25m en su dimensión más ancha se quemarán a medida que entren a la atmósfera.\n",
    "* Asteroides de 25 a 1000m golpearan la tierra causando mucho daño.\n",
    "\n",
    "Usando esta información en conjunto con la brindada anteriormente, escribe un programa que emita la advertencia o información correcta a la gente de la Tierra, según la velocidad y el tamaño de un asteroide."
   ]
  },
  {
   "cell_type": "code",
   "execution_count": 21,
   "metadata": {},
   "outputs": [
    {
     "name": "stdout",
     "output_type": "stream",
     "text": [
      "Asteroide cercano a la tierra. Será visible una estela de luz, ¡Buscala!\n"
     ]
    }
   ],
   "source": [
    "velAsteroide = 25\n",
    "tamaño = 20\n",
    "\n",
    "if velAsteroide > 25 and tamaño > 25:       # Grande y rapido\n",
    "    print(\"Advertencia! Serás el petroleo de la siguiente generación de vida en la tierra.\")\n",
    "elif velAsteroide > 25 and tamaño < 25:     # Chico y rapido\n",
    "    print(\"Asteroide cercano a la tierra. Se quemará al entrar a la atmosfera.\")\n",
    "elif velAsteroide >= 20 and tamaño > 25:    # Grande y vel media\n",
    "    print(\"Asteroide cercano a la tierra. Es lento pero no se quemará y golpeara la tierra.\")\n",
    "elif velAsteroide >= 20 and tamaño < 25:    # Chico y vel media\n",
    "    print(\"Asteroide cercano a la tierra. Será visible una estela de luz, ¡Buscala!\")\n",
    "else:\n",
    "    print(\"Asteroide cercano a la tierra. Sin riesgo para la humanidad\")"
   ]
  },
  {
   "cell_type": "markdown",
   "metadata": {},
   "source": [
    "Curso Propedútico de Python para Launch X - Innovacción Virtual.\n",
    "\n",
    "Material desarrollado con base en los contenidos de MSLearn y la metáfora de LaunchX, traducción e implementación por: Fernanda Ochoa - Learning Producer de LaunchX.\n",
    "\n",
    "https://github.com/LaunchX-InnovaccionVirtual/CursoIntroPython/"
   ]
  }
 ],
 "metadata": {
  "interpreter": {
   "hash": "2be5faf79681da6f2a61fdfdd5405d65d042280f7fba6178067603e3a2925119"
  },
  "kernelspec": {
   "display_name": "Python 3.10.2 64-bit",
   "language": "python",
   "name": "python3"
  },
  "language_info": {
   "codemirror_mode": {
    "name": "ipython",
    "version": 3
   },
   "file_extension": ".py",
   "mimetype": "text/x-python",
   "name": "python",
   "nbconvert_exporter": "python",
   "pygments_lexer": "ipython3",
   "version": "3.10.2"
  },
  "orig_nbformat": 4
 },
 "nbformat": 4,
 "nbformat_minor": 2
}
