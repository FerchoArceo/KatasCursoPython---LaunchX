{
 "cells": [
  {
   "cell_type": "markdown",
   "metadata": {},
   "source": [
    "# Kata No. 9"
   ]
  },
  {
   "cell_type": "markdown",
   "metadata": {},
   "source": [
    "Curso LaunchX, 2022.\n",
    "Alumno: Fernando Arceo Olivares"
   ]
  },
  {
   "cell_type": "markdown",
   "metadata": {},
   "source": [
    "## Ejercicio 1: Trabajar con argumentos en funciones\n",
    "\n",
    "Comienza por crear una función que necesite tres lecturas de combustible y devuelva un informe:"
   ]
  },
  {
   "cell_type": "code",
   "execution_count": 1,
   "metadata": {},
   "outputs": [],
   "source": [
    "def fuel_inf(lect1, lect2, lect3):\n",
    "    try: \n",
    "        res = (lect1 + lect2 + lect3)/3\n",
    "        return res\n",
    "    except: print('At least one of the 3 arguments was not a number')"
   ]
  },
  {
   "cell_type": "markdown",
   "metadata": {},
   "source": [
    "Ahora que hemos definido la función de informes, vamos a comprobarlo. Para esta misión, los tanques no están llenos:"
   ]
  },
  {
   "cell_type": "code",
   "execution_count": 2,
   "metadata": {},
   "outputs": [
    {
     "name": "stdout",
     "output_type": "stream",
     "text": [
      "The average level of fuel in the space ship is: 0.29\n"
     ]
    }
   ],
   "source": [
    "# Full tank = 1 ... maybe?\n",
    "print(f'The average level of fuel in the space ship is: {fuel_inf(0.2,0.57,0.1)}')"
   ]
  },
  {
   "cell_type": "markdown",
   "metadata": {},
   "source": [
    "En lugar de simplemente crear el informe, la función también está calculando el promedio. Mejora la legibilidad extrayendo el cálculo promedio de la función en una nueva función para que el promedio se pueda hacer de forma independiente:"
   ]
  },
  {
   "cell_type": "code",
   "execution_count": 3,
   "metadata": {},
   "outputs": [],
   "source": [
    "def averageOf3(value):\n",
    "    return value/3"
   ]
  },
  {
   "cell_type": "markdown",
   "metadata": {},
   "source": [
    "Ahora actualiza la función de informes para llamando a la nueva función del promedio:"
   ]
  },
  {
   "cell_type": "code",
   "execution_count": 4,
   "metadata": {},
   "outputs": [],
   "source": [
    "def fuel_infV2(lect1, lect2, lect3):\n",
    "    try: \n",
    "        res = averageOf3(lect1 + lect2 + lect3)\n",
    "        return res\n",
    "    except: print('At least one of the 3 arguments was not a number')"
   ]
  },
  {
   "cell_type": "code",
   "execution_count": 5,
   "metadata": {},
   "outputs": [
    {
     "name": "stdout",
     "output_type": "stream",
     "text": [
      "The average level of fuel in the space ship is: 0.6666666666666666\n"
     ]
    }
   ],
   "source": [
    "# Full tank = 1 ... maybe?\n",
    "print(f'The average level of fuel in the space ship is: {fuel_infV2(0.62,0.57,0.81)}')"
   ]
  },
  {
   "cell_type": "markdown",
   "metadata": {},
   "source": [
    "## Ejercicio 2: Trabajo con argumentos de palabra clave\n",
    "\n",
    "Comienza por crear una función que creará un informe preciso de la misión. Considera hora de prelanzamiento, tiempo de vuelo, destino, tanque externo y tanque interno."
   ]
  },
  {
   "cell_type": "code",
   "execution_count": 6,
   "metadata": {},
   "outputs": [],
   "source": [
    "def inf_generator(prelaunch_hour = '0:00', tof = 0, destination = 'Earth', ext_tank = 0, int_tank = 0):\n",
    "    print(f'''\n",
    "    The prelaunch hour set for the voyage is {prelaunch_hour} hours.\n",
    "    The estimated time of flight is {tof} hour(s).\n",
    "    The destination of the voyage is {destination}.\n",
    "    The level of fuel in the external and internal tanks are: {ext_tank} lt(s) and {int_tank} lt(s) respectively.\n",
    "    ''')"
   ]
  },
  {
   "cell_type": "code",
   "execution_count": 7,
   "metadata": {},
   "outputs": [
    {
     "name": "stdout",
     "output_type": "stream",
     "text": [
      "\n",
      "    The prelaunch hour set for the voyage is 0:00 hours.\n",
      "    The estimated time of flight is 0 hour(s).\n",
      "    The destination of the voyage is Earth.\n",
      "    The level of fuel in the external and internal tanks are: 0 lt(s) and 0 lt(s) respectively.\n",
      "    \n",
      "\n",
      "    The prelaunch hour set for the voyage is 17:00 hours.\n",
      "    The estimated time of flight is 12 hour(s).\n",
      "    The destination of the voyage is Moon.\n",
      "    The level of fuel in the external and internal tanks are: 13000 lt(s) and 1000 lt(s) respectively.\n",
      "    \n"
     ]
    }
   ],
   "source": [
    "inf_generator()\n",
    "\n",
    "inf_generator('17:00', 12, 'Moon', 13000, 1000)"
   ]
  },
  {
   "cell_type": "markdown",
   "metadata": {},
   "source": [
    "La función es problemática porque no se puede adaptar para minutos adicionales o tanques adicionales de combustible. Hazlo más flexible permitiendo cualquier número de pasos basados en el tiempo y cualquier número de tanques. (*args y **kwargs)"
   ]
  },
  {
   "cell_type": "code",
   "execution_count": 8,
   "metadata": {},
   "outputs": [],
   "source": [
    "def inf_generatorV2(destination = 'Earth', *minutes, **fuel_reservoirs):\n",
    "    print(f'''\n",
    "    The destination of the voyage is {destination}.\n",
    "    The estimated time of flight is {sum(minutes)} minutes.\n",
    "    The total quantity of fuel we have is: {sum(fuel_reservoirs.values())} liters.\n",
    "    ''')\n",
    "# fuel_reservoirs has to be managed as a dictionary!"
   ]
  },
  {
   "cell_type": "code",
   "execution_count": 9,
   "metadata": {},
   "outputs": [
    {
     "name": "stdout",
     "output_type": "stream",
     "text": [
      "\n",
      "    The destination of the voyage is Mars.\n",
      "    The estimated time of flight is 1410 minutes.\n",
      "    The total quantity of fuel we have is: 4000 liters.\n",
      "    \n"
     ]
    }
   ],
   "source": [
    "inf_generatorV2('Mars', 30, 45, 1320, 15, internal=1000, externalLeft = 1500, externalRight = 1500)"
   ]
  },
  {
   "cell_type": "markdown",
   "metadata": {},
   "source": [
    "Debido a que el combustible que queda en los tanques es específico de cada tanque, actualiza la función para usar el nombre de cada tanque en el informe:"
   ]
  },
  {
   "cell_type": "code",
   "execution_count": 10,
   "metadata": {},
   "outputs": [],
   "source": [
    "def inf_generatorV3(destination = 'Earth', *minutes, **fuel_reservoirs):\n",
    "    print(f'''\n",
    "    The destination of the voyage is {destination}.\n",
    "    The estimated time of flight is {sum(minutes)} minutes.\n",
    "    The total quantity of fuel we have is:''')\n",
    "    for keys in fuel_reservoirs:\n",
    "        print(f'    The \"{keys}\" tank has {fuel_reservoirs[keys]} liters of fuel.')"
   ]
  },
  {
   "cell_type": "code",
   "execution_count": 11,
   "metadata": {},
   "outputs": [
    {
     "name": "stdout",
     "output_type": "stream",
     "text": [
      "\n",
      "    The destination of the voyage is Mars.\n",
      "    The estimated time of flight is 1410 minutes.\n",
      "    The total quantity of fuel we have is:\n",
      "    The \"internal\" tank has 1000 liters of fuel.\n",
      "    The \"externalLeft\" tank has 1500 liters of fuel.\n",
      "    The \"externalRight\" tank has 1500 liters of fuel.\n"
     ]
    }
   ],
   "source": [
    "inf_generatorV3('Mars', 30, 45, 1320, 15, internal=1000, externalLeft = 1500, externalRight = 1500)"
   ]
  },
  {
   "cell_type": "markdown",
   "metadata": {},
   "source": [
    "Curso Propedútico de Python para Launch X - Innovacción Virtual.\n",
    "\n",
    "Material desarrollado con base en los contenidos de MSLearn y la metáfora de LaunchX, traducción e implementación por: Fernanda Ochoa - Learning Producer de LaunchX.\n",
    "\n",
    "https://github.com/LaunchX-InnovaccionVirtual/CursoIntroPython/"
   ]
  }
 ],
 "metadata": {
  "interpreter": {
   "hash": "2be5faf79681da6f2a61fdfdd5405d65d042280f7fba6178067603e3a2925119"
  },
  "kernelspec": {
   "display_name": "Python 3.10.2 64-bit",
   "language": "python",
   "name": "python3"
  },
  "language_info": {
   "codemirror_mode": {
    "name": "ipython",
    "version": 3
   },
   "file_extension": ".py",
   "mimetype": "text/x-python",
   "name": "python",
   "nbconvert_exporter": "python",
   "pygments_lexer": "ipython3",
   "version": "3.10.2"
  },
  "orig_nbformat": 4
 },
 "nbformat": 4,
 "nbformat_minor": 2
}
